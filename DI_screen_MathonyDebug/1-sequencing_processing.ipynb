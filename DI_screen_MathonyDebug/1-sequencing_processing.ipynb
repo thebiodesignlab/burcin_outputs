{
 "cells": [
  {
   "cell_type": "markdown",
   "metadata": {},
   "source": [
    "# Processing of the domain insertion data and analysis with respect to insert position\n",
    "- Inputs were DI datasets as they are produced by the Dipseq library"
   ]
  },
  {
   "cell_type": "code",
   "execution_count": 1,
   "metadata": {
    "scrolled": true,
    "tags": [
     "1"
    ]
   },
   "outputs": [
    {
     "name": "stderr",
     "output_type": "stream",
     "text": [
      "/camp/apps/eb/dev/software/IPython/7.9.0-foss-2019b-Python-3.7.4/lib/python3.7/site-packages/html5lib/_trie/_base.py:3: DeprecationWarning: Using or importing the ABCs from 'collections' instead of from 'collections.abc' is deprecated since Python 3.3,and in 3.9 it will stop working\n",
      "  from collections import Mapping\n",
      "/camp/home/acarb/.conda/envs/DIscreen_env/lib/python3.7/site-packages/Bio/SubsMat/__init__.py:131: BiopythonDeprecationWarning: Bio.SubsMat has been deprecated, and we intend to remove it in a future release of Biopython. As an alternative, please consider using Bio.Align.substitution_matrices as a replacement, and contact the Biopython developers if you still need the Bio.SubsMat module.\n",
      "  BiopythonDeprecationWarning,\n"
     ]
    }
   ],
   "source": [
    "#import packages\n",
    "import pandas as pd \n",
    "import numpy as np\n",
    "import seaborn as sns\n",
    "import pickle as pkl\n",
    "import matplotlib.pyplot as plt\n",
    "from Bio import SeqIO\n",
    "import warnings\n",
    "warnings.filterwarnings(action='once')\n",
    "\n",
    "from utils.plotting import *\n",
    "from utils.processing import *\n",
    "\n"
   ]
  },
  {
   "cell_type": "markdown",
   "metadata": {},
   "source": [
    "### Define inputs\n",
    "- infolder should contain the input CSVs as produced by the [dipSeq pipeline](https://github.com/SavageLab/dipseq) "
   ]
  },
  {
   "cell_type": "code",
   "execution_count": 2,
   "metadata": {
    "tags": [
     "2"
    ]
   },
   "outputs": [],
   "source": [
    "import os # brcn added this\n",
    "base = '/camp/lab/debenedictise/home/users/acarb/gitfolder/DI_screen_MathonyDebug'\n",
    "in_folder = f'{base}/analysis/input_data'\n",
    "out_folder = f'{base}/analysis'\n",
    "prot_dict = {rec.id : rec.seq for rec in SeqIO.parse(f'{in_folder}/proteins.fasta', 'fasta')}\n",
    "samples = ['AraC_ERD', 'AraC_eYFP', 'AraC_LOV', 'AraC_PDZ', 'AraC_UniRapR', 'Flp_PDZ', 'SigF_PDZ', 'TVMV_PDZ']\n",
    "os.makedirs(f'{out_folder}/figures/', exist_ok=True)\n",
    "os.makedirs(f'{out_folder}/output_datasets/', exist_ok=True)\n"
   ]
  },
  {
   "cell_type": "markdown",
   "metadata": {},
   "source": [
    "### Plot individual replicates versus input"
   ]
  },
  {
   "cell_type": "code",
   "execution_count": 3,
   "metadata": {
    "tags": [
     "3"
    ]
   },
   "outputs": [],
   "source": [
    "# functions\n",
    "def process_enriched(input_enriched):\n",
    "    data_cond = pd.read_csv(input_enriched, delimiter=',')\n",
    "    data_cond.insertion_site = data_cond.insertion_site/3\n",
    "    data_cond['insertion_site'] = data_cond['insertion_site']-1 #remove linker S after M\n",
    "    data_cond = data_cond.loc[(data_cond['in_frame_insertion'] == True) & (data_cond['forward_insertion'] == True) & \n",
    "                            (data_cond['linker_seq'].isnull())]\n",
    "    data_norm = pd.DataFrame([data_cond['insertion_site'].value_counts(), data_input['insertion_site'].value_counts(), \n",
    "    pd.RangeIndex(1, len(prot_dict[combination.split('_')[0]])+1).to_series()]).T\n",
    "    data_norm.index = data_norm.index.astype(int)\n",
    "    data_norm.columns = ['cond', 'input', 'position']\n",
    "    data_norm['cond'] = data_norm['cond']/np.sum(data_norm['cond'])\n",
    "    data_norm['input'] = data_norm['input']/np.sum(data_norm['input'])\n",
    "    data_norm['norm'] = data_norm['cond']/data_norm['input']\n",
    "    data_norm['position'] = data_norm.index.astype(str)\n",
    "    data_norm.fillna(0, inplace=True)\n",
    "    data_norm = data_norm[data_norm.index >= 0]\n",
    "    data_norm = data_norm[data_norm.index < len(prot_dict[combination.split('_')[0]])+1]\n",
    "    data_norm['log'] = np.log2(data_norm['norm'])\n",
    "    data_norm.loc[data_norm.input == 0, 'log'] = np.nan\n",
    "    data_norm.loc[data_norm.log == -np.inf, 'log'] = -10\n",
    "    return data_norm\n",
    "\n",
    "def create_hist(data, reps, combination, out_folder):\n",
    "    plt.clf()\n",
    "    plt.figure(figsize=(10,3.5))\n",
    "    sns.set_context(rc = {'patch.linewidth': 0.0}) \n",
    "    ax = sns.histplot(data=data, x='insertion_site', discrete=True, shrink=1, color='#808080')\n",
    "    plt.xlim(left=0.5, right=len(prot_dict[combination.split('_')[0]]))\n",
    "    plt.title(f\"{combination.replace('_', ' ')}\")\n",
    "    plt.yscale('log')\n",
    "    plt.ylabel(\"Log read counts\")\n",
    "    plt.xlabel(\"Insertion site\")\n",
    "    ax.spines['left'].set_linewidth(2)\n",
    "    ax.spines['bottom'].set_linewidth(2)\n",
    "    ax.yaxis.set_tick_params(width=2, which='both')\n",
    "    ax.xaxis.set_tick_params(width=2)\n",
    "    sns.despine()\n",
    "    plt.savefig(f\"{out_folder}/figure/input_coverage_{combination}_input.svg\")\n"
   ]
  },
  {
   "cell_type": "code",
   "execution_count": 4,
   "metadata": {
    "tags": [
     "4"
    ]
   },
   "outputs": [
    {
     "name": "stderr",
     "output_type": "stream",
     "text": [
      "/camp/apps/eb/software/SciPy-bundle/2019.10-foss-2019b-Python-3.7.4/lib/python3.7/site-packages/pandas/core/series.py:856: RuntimeWarning: divide by zero encountered in log2\n",
      "  result = getattr(ufunc, method)(*inputs, **kwargs)\n",
      "findfont: Font family ['sans-serif'] not found. Falling back to DejaVu Sans.\n",
      "findfont: Font family ['sans-serif'] not found. Falling back to DejaVu Sans.\n",
      "/camp/apps/eb/software/SciPy-bundle/2019.10-foss-2019b-Python-3.7.4/lib/python3.7/site-packages/pandas/core/series.py:856: RuntimeWarning: divide by zero encountered in log2\n",
      "  result = getattr(ufunc, method)(*inputs, **kwargs)\n",
      "/camp/apps/eb/dev/software/IPython/7.9.0-foss-2019b-Python-3.7.4/lib/python3.7/site-packages/IPython/core/interactiveshell.py:3249: DtypeWarning: Columns (6) have mixed types. Specify dtype option on import or set low_memory=False.\n",
      "  if (await self.run_code(code, result,  async_=asy)):\n",
      "/camp/apps/eb/software/SciPy-bundle/2019.10-foss-2019b-Python-3.7.4/lib/python3.7/site-packages/pandas/core/series.py:856: RuntimeWarning: divide by zero encountered in log2\n",
      "  result = getattr(ufunc, method)(*inputs, **kwargs)\n",
      "/camp/apps/eb/software/SciPy-bundle/2019.10-foss-2019b-Python-3.7.4/lib/python3.7/site-packages/pandas/core/series.py:856: RuntimeWarning: divide by zero encountered in log2\n",
      "  result = getattr(ufunc, method)(*inputs, **kwargs)\n",
      "/camp/apps/eb/software/SciPy-bundle/2019.10-foss-2019b-Python-3.7.4/lib/python3.7/site-packages/pandas/core/series.py:856: RuntimeWarning: divide by zero encountered in log2\n",
      "  result = getattr(ufunc, method)(*inputs, **kwargs)\n",
      "/camp/apps/eb/dev/software/IPython/7.9.0-foss-2019b-Python-3.7.4/lib/python3.7/site-packages/IPython/core/interactiveshell.py:3249: DtypeWarning: Columns (6) have mixed types. Specify dtype option on import or set low_memory=False.\n",
      "  if (await self.run_code(code, result,  async_=asy)):\n",
      "/camp/apps/eb/software/SciPy-bundle/2019.10-foss-2019b-Python-3.7.4/lib/python3.7/site-packages/pandas/core/series.py:856: RuntimeWarning: divide by zero encountered in log2\n",
      "  result = getattr(ufunc, method)(*inputs, **kwargs)\n",
      "/camp/apps/eb/dev/software/IPython/7.9.0-foss-2019b-Python-3.7.4/lib/python3.7/site-packages/IPython/core/interactiveshell.py:3249: DtypeWarning: Columns (6) have mixed types. Specify dtype option on import or set low_memory=False.\n",
      "  if (await self.run_code(code, result,  async_=asy)):\n",
      "/camp/apps/eb/software/SciPy-bundle/2019.10-foss-2019b-Python-3.7.4/lib/python3.7/site-packages/pandas/core/series.py:856: RuntimeWarning: divide by zero encountered in log2\n",
      "  result = getattr(ufunc, method)(*inputs, **kwargs)\n",
      "/camp/apps/eb/dev/software/IPython/7.9.0-foss-2019b-Python-3.7.4/lib/python3.7/site-packages/IPython/core/interactiveshell.py:3249: DtypeWarning: Columns (6) have mixed types. Specify dtype option on import or set low_memory=False.\n",
      "  if (await self.run_code(code, result,  async_=asy)):\n",
      "/camp/apps/eb/software/SciPy-bundle/2019.10-foss-2019b-Python-3.7.4/lib/python3.7/site-packages/pandas/core/series.py:856: RuntimeWarning: divide by zero encountered in log2\n",
      "  result = getattr(ufunc, method)(*inputs, **kwargs)\n",
      "/camp/apps/eb/dev/software/IPython/7.9.0-foss-2019b-Python-3.7.4/lib/python3.7/site-packages/IPython/core/interactiveshell.py:3249: DtypeWarning: Columns (6) have mixed types. Specify dtype option on import or set low_memory=False.\n",
      "  if (await self.run_code(code, result,  async_=asy)):\n",
      "/camp/apps/eb/software/SciPy-bundle/2019.10-foss-2019b-Python-3.7.4/lib/python3.7/site-packages/pandas/core/series.py:856: RuntimeWarning: divide by zero encountered in log2\n",
      "  result = getattr(ufunc, method)(*inputs, **kwargs)\n"
     ]
    }
   ],
   "source": [
    "samples_dict = {}\n",
    "for combination in samples:\n",
    "        samples_dict[combination] = {}\n",
    "        for condition in ['input', ['12','22'], ['22_ind']]:   \n",
    "            if condition == 'input':\n",
    "                try:\n",
    "                    reps=False\n",
    "                    data_input = process_input(f\"{in_folder}/{combination}_{condition}_combined.csv\")\n",
    "                    create_hist(data_input, reps, combination, out_folder)\n",
    "                except:\n",
    "                    pass         \n",
    "            else:\n",
    "                try:\n",
    "                    data_norm_1 = process_enriched(f\"{in_folder}/{combination}_{condition[0]}_combined.csv\")\n",
    "                    samples_dict[combination][condition[0]] = data_norm_1\n",
    "                except:\n",
    "                    data_norm_1 = 'empty'\n",
    "                try:\n",
    "                    data_norm_2 = process_enriched(f\"{in_folder}/{combination}_{condition[1]}_combined.csv\")\n",
    "                    samples_dict[combination][condition[1]] = data_norm_2\n",
    "                except:\n",
    "                    data_norm_2 = 'empty'\n",
    "                if type(data_norm_1) != str or type(data_norm_2) != str:\n",
    "                    create_enrichment_fig(data_norm_1, data_norm_2, combination, condition, prot_dict, out_folder)\n",
    "                #try:\n",
    "                if condition[0][1:] == '2':\n",
    "                    data_norm = pd.DataFrame([data_norm_1['log'], data_norm_2['log']], index=['Replicate-1', 'Replicate-2'])\n",
    "                    data_norm.replace(-10, np.nan, inplace=True)\n",
    "                    data_norm.dropna(inplace=True, axis='columns')\n",
    "                    correlation_plot(data_norm.T, combination, condition, out_folder)\n",
    "                    del data_norm\n",
    "\n",
    "\n",
    "with open(f'{out_folder}/output_datasets/analysis_dict.pickle', 'wb') as f:\n",
    "    pkl.dump(samples_dict, f)\n",
    "f.close()\n",
    "         \n"
   ]
  },
  {
   "cell_type": "code",
   "execution_count": 5,
   "metadata": {
    "scrolled": true,
    "tags": [
     "5"
    ]
   },
   "outputs": [
    {
     "name": "stdout",
     "output_type": "stream",
     "text": [
      "Int64Index([1, 2, 29, 60, 61, 62, 113, 114, 115, 116, 164, 166, 169, 170, 292], dtype='int64')\n"
     ]
    },
    {
     "name": "stderr",
     "output_type": "stream",
     "text": [
      "findfont: Font family ['sans-serif'] not found. Falling back to DejaVu Sans.\n",
      "findfont: Font family ['sans-serif'] not found. Falling back to DejaVu Sans.\n"
     ]
    }
   ],
   "source": [
    "sns.set(font_scale = 1)\n",
    "sns.set_style(\"ticks\", rc={'font.family':'sans-serif', 'font.sans-serif':'Droid Sans'})\n",
    "\n",
    "LOV_switching = pd.DataFrame([(samples_dict['AraC_LOV']['12']['log'] + samples_dict['AraC_LOV']['22']['log'])/2, samples_dict['AraC_LOV']['22_ind']['log']]).T\n",
    "LOV_switching.columns = ['dark', 'light']\n",
    "\n",
    "for idx, row in LOV_switching.iterrows():\n",
    "    if row[0] < 1 and row[1] < 1:\n",
    "        LOV_switching.iloc[idx-1,:] = [0,0]\n",
    "    if abs(row[0] - row[1]) < 2.5:\n",
    "        LOV_switching.iloc[idx-1,:] = [0,0]\n",
    "\n",
    "score = LOV_switching['dark']-LOV_switching['light']\n",
    "\n",
    "LOV_switching['position'] = LOV_switching.index\n",
    "\n",
    "print(LOV_switching[LOV_switching['dark'] != 0].index)\n",
    "create_switch_fig(LOV_switching, out_folder)\n",
    "\n"
   ]
  },
  {
   "cell_type": "markdown",
   "metadata": {},
   "source": [
    "Fold change ranling: \n",
    "60    -8.095273\n",
    "115   -6.484597\n",
    "30    -6.444093\n",
    "61    -6.189467\n",
    "114   -5.564962\n",
    "117   -4.537598\n",
    "62    -3.940978\n",
    "116   -3.940976\n",
    "113   -3.5617902\n",
    "79    1.843357\n",
    "3      2.012278\n",
    "166    3.185385\n",
    "164    3.742526\n",
    "169    3.893907\n",
    "170    4.928636\n",
    "165    8.614192\n"
   ]
  },
  {
   "cell_type": "markdown",
   "metadata": {},
   "source": [
    "## Correlation plot and fold change plots\n"
   ]
  },
  {
   "cell_type": "code",
   "execution_count": 6,
   "metadata": {
    "tags": [
     "6"
    ]
   },
   "outputs": [],
   "source": [
    "conditions = ['12', '22', '12_ind', '22_ind']\n",
    "norm_dict = {}\n",
    "for j in ['ERD', 'PDZ', 'UniRapR', 'eYFP', 'LOV']:\n",
    "    for name, df in samples_dict[f'AraC_{j}'].items():\n",
    "        norm_dict[f'{j} {name[0]}{name[2:]}'] = df.log.to_list()\n",
    "\n",
    "norm_df = pd.DataFrame.from_dict(norm_dict).iloc[1:-1,:]\n",
    "norm_df_small = pd.DataFrame([(norm_df['ERD 1']+norm_df['ERD 2'])/2, (norm_df['PDZ 1']+norm_df['PDZ 2'])/2, \n",
    "                (norm_df['UniRapR 1']+norm_df['UniRapR 2'])/2, (norm_df['eYFP 1']+norm_df['eYFP 2'])/2, (norm_df['LOV 1']+norm_df['LOV 2'])/2, norm_df['LOV 2_ind']]).T\n",
    "norm_df_small.columns = ['ERD', 'PDZ', 'UniRapR', 'eYFP', 'LOV', 'LOV_ind']"
   ]
  },
  {
   "cell_type": "code",
   "execution_count": 7,
   "metadata": {
    "tags": [
     "7"
    ]
   },
   "outputs": [],
   "source": [
    "pairwise_correlation(norm_df, 'AraC', out_folder)\n",
    "pairwise_correlation(norm_df_small, 'AraC-1', out_folder)"
   ]
  },
  {
   "cell_type": "code",
   "execution_count": 8,
   "metadata": {
    "tags": [
     "8"
    ]
   },
   "outputs": [],
   "source": [
    "# only take samples into account that are >0 in at least one dataset\n",
    "conditions = ['12', '22', '12_ind', '22_ind']\n",
    "for j in ['LOV']:\n",
    "    norm_dict = {}\n",
    "    for name, df in samples_dict[f'AraC_{j}'].items():\n",
    "        norm_dict[f'{j} {name[0]}{name[2:]}'] = df.log.to_list()\n",
    "    norm_df = pd.DataFrame.from_dict(norm_dict).iloc[1:-1,:]\n",
    "    pairwise_correlation(norm_df[(norm_df > 0).any(axis=1)], 'AraC-2', out_folder)"
   ]
  },
  {
   "cell_type": "code",
   "execution_count": 9,
   "metadata": {
    "tags": [
     "9"
    ]
   },
   "outputs": [],
   "source": [
    "LOV_switching = pd.DataFrame([(samples_dict['AraC_LOV']['12']['log'] + samples_dict['AraC_LOV']['22']['log'])/2, samples_dict['AraC_LOV']['22_ind']['log']]).T\n",
    "LOV_switching.columns = ['Dark', 'Light']\n",
    "LOV_switching = LOV_switching.iloc[1:-1,:]\n",
    "sns.set(font_scale = 1)\n",
    "sns.set_style(\"ticks\", rc={'font.family':'sans-serif', 'font.sans-serif':'Droid Sans'})\n",
    "plt.figure(figsize=(5,5))\n",
    "plt.rcParams['axes.linewidth'] = 2\n",
    "ax = sns.scatterplot(data=LOV_switching, x='Light', y='Dark', color='grey', alpha=.4, linewidth=0, legend=False)\n",
    "ax1 = sns.scatterplot(data=LOV_switching.iloc[[111,168],:], x='Light', y='Dark', color='red', alpha=1, linewidth=0, legend=False)\n",
    "plt.xlabel(\"Light log2 enriched read counts\")\n",
    "plt.ylabel(\"Dark log2 enriched read counts\")\n",
    "plt.xlim(LOV_switching.min().min()-1, LOV_switching.max().max() +1)\n",
    "plt.ylim(LOV_switching.min().min()-1, LOV_switching.max().max() +1)\n",
    "sns.despine()\n",
    "plt.axvline(0, 1,0, color='black', linewidth=2)\n",
    "plt.axhline(0, 1,0, color='black', linewidth=2)\n",
    "ax.annotate('AraC-I113-LOV', (.2, -2.2))\n",
    "ax.annotate('AraC-S170-LOV', (-7.8, 1.95))\n",
    "plt.title(f\"{combination.replace('_', ' ')} Enrichment: {condition[0][1:]}\")\n",
    "ax.yaxis.set_tick_params(width=2)\n",
    "ax.xaxis.set_tick_params(width=2)\n",
    "plt.savefig(f\"{out_folder}/figures/LOV_scatter_{combination}_{condition[0][1:]}.svg\")\n"
   ]
  },
  {
   "cell_type": "code",
   "execution_count": null,
   "metadata": {},
   "outputs": [],
   "source": []
  }
 ],
 "metadata": {
  "celltoolbar": "Tags",
  "kernelspec": {
   "display_name": "DIscreen_env",
   "language": "python",
   "name": "discreen_env"
  },
  "language_info": {
   "codemirror_mode": {
    "name": "ipython",
    "version": 3
   },
   "file_extension": ".py",
   "mimetype": "text/x-python",
   "name": "python",
   "nbconvert_exporter": "python",
   "pygments_lexer": "ipython3",
   "version": "3.7.12"
  },
  "vscode": {
   "interpreter": {
    "hash": "23231cc0e1175a415e6a46f609f010c4518ef1e16ed86c20cc8a33961ffa22b9"
   }
  }
 },
 "nbformat": 4,
 "nbformat_minor": 2
}
