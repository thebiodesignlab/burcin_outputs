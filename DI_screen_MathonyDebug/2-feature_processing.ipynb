{
 "cells": [
  {
   "cell_type": "markdown",
   "metadata": {},
   "source": [
    "# Gather protein structures and amino acid features\n",
    "* This notebook generates a dict with diverse protein features for each protein\n",
    "* Requires data from notebook #1\n",
    "\n",
    " **Include sequence alignments to the analysis**\n",
    "* MSAs were generated using PSI-BLAST using the non-redudant protein sequences and limit the msas to 5000 sequences\n",
    "* Aim: Test whether sequence conservation correlates with insertion tolerance\n",
    "* The sequences were fetched via psi-blast with a limit of 5000 sequence\n",
    "* MSAs were generated using MUSCLE with standard params\n",
    "    * for large alignments the Super5 algorithm was used instead of PPP\n",
    "* Kullback-Leibler-Divergence is taken as a measure for conservation"
   ]
  },
  {
   "cell_type": "code",
   "execution_count": 1,
   "metadata": {},
   "outputs": [
    {
     "name": "stderr",
     "output_type": "stream",
     "text": [
      "/camp/home/acarb/.conda/envs/DIscreen_env/lib/python3.7/site-packages/Bio/SubsMat/__init__.py:131: BiopythonDeprecationWarning: Bio.SubsMat has been deprecated, and we intend to remove it in a future release of Biopython. As an alternative, please consider using Bio.Align.substitution_matrices as a replacement, and contact the Biopython developers if you still need the Bio.SubsMat module.\n",
      "  BiopythonDeprecationWarning,\n"
     ]
    }
   ],
   "source": [
    "import pickle\n",
    "import pandas as pd\n",
    "from Bio import SeqIO\n",
    "from Bio.PDB import *\n",
    "import matplotlib.pyplot as plt\n",
    "import matplotlib as matplotlib\n",
    "\n",
    "from utils.plotting import *\n",
    "from utils.processing import *\n",
    "\n",
    "# set styles\n",
    "plt.style.use('./utils/domain_ins.mplstyle')\n",
    "plt.rcParams['svg.fonttype'] = 'none'"
   ]
  },
  {
   "cell_type": "markdown",
   "metadata": {},
   "source": [
    "### Define parameters"
   ]
  },
  {
   "cell_type": "code",
   "execution_count": 2,
   "metadata": {},
   "outputs": [],
   "source": [
    "base = '/camp/lab/debenedictise/home/users/acarb/gitfolder/DI_screen_MathonyDebug'\n",
    "in_folder = f'{base}/analysis/input_data'\n",
    "data_folder = f'{base}/analysis/output_datasets'\n",
    "fig_folder = f'{base}/analysis/figures'\n",
    "primary_proteins = {rec.id : rec.seq for rec in SeqIO.parse(f'{in_folder}/proteins.fasta', 'fasta')}\n",
    "\n",
    "#sequencing data:\n",
    "# import analysis dict\n",
    "with open(f'{data_folder}/analysis_dict.pickle', 'rb') as input:\n",
    "    analysis_dict = pickle.load(input)\n",
    "input.close()\n",
    "\n",
    "# background AA frequences Swissprot release 2022_04\n",
    "background_AA ={'A':0.0825, 'Q':0.0393, 'L':0.0965, 'S':0.0664, 'R':0.0553, 'E':0.0672, 'K':0.0580, 'T':0.0535, 'N':0.0406, 'G':0.0707,\n",
    "                'M':0.0241, 'W':0.0110, 'D':0.0546, 'H':0.0227, 'F':0.0386, 'Y':0.0292, 'C':0.0138, 'I':0.0591, 'P':0.0474, 'V':0.0686}\n",
    "\n",
    "#define features that should be taken into account \n",
    "feature_dict_radius = {'Hydrophobicity':'PRAM900101', 'Flexibility_idx':'BHAR880101', 'Molecular_weight':'FASG760101', 'Average_volume':'PONJ960101', \n",
    "'Positive_charge':'FAUJ880111', 'Negative_charge':'FAUJ880112', 'Net_charge':'KLEP840101', 'Radius_of_gyration':'LEVM760105',\n",
    " 'Side-chain_stab_idx':'TAKK010101', 'Stability_scale_atom':'ZHOH040101', 'Stability_scale_experiment':'ZHOH040102', 'Buriability':'ZHOH040103'}\n",
    "feature_dict_sequential = {'Linker_idx_Suyama':'SUYM030101', 'Linker_idx_George':'GEOR030101', 'Linker_idx_Bae':'BAEK050101'}"
   ]
  },
  {
   "cell_type": "markdown",
   "metadata": {},
   "source": [
    "### Fetch features from AAindex DB, MSAs and PDB files"
   ]
  },
  {
   "cell_type": "code",
   "execution_count": 3,
   "metadata": {},
   "outputs": [],
   "source": [
    "feat_dict_radius = import_features(feature_dict_radius)\n",
    "feat_dict_sequential = import_features(feature_dict_sequential)"
   ]
  },
  {
   "cell_type": "code",
   "execution_count": 4,
   "metadata": {},
   "outputs": [],
   "source": [
    "#process alignments and store data in dict\n",
    "data_dict = {}\n",
    "uniprot = {'AraC', 'TVMV', 'Flp', 'SigF'}\n",
    "for protein in uniprot:\n",
    "        data_dict[f'{protein}_data']={}\n",
    "        data_dict[f'{protein}_data']['alignment_df'], data_dict[f'{protein}_data'][f'{protein}_positions'],  data_dict[f'{protein}_data']['alignment_counts'] = process_alignment(base, protein)\n",
    "        data_dict[f'{protein}_data']['KLD'], data_dict[f'{protein}_data']['query_idx'] = KLD(data_dict[f'{protein}_data']['alignment_counts'], background_AA, data_dict[f'{protein}_data'][f'{protein}_positions'])\n",
    "        data_dict[f'{protein}_data'] = insertion_stats(data_dict[f'{protein}_data']['query_idx'], primary_proteins[protein], data_dict[f'{protein}_data'])\n",
    "        del data_dict[f'{protein}_data']['alignment_df'], data_dict[f'{protein}_data'][f'{protein}_positions'], data_dict[f'{protein}_data']['alignment_counts'], data_dict[f'{protein}_data']['query_idx']\n",
    "        data_dict[f'{protein}_data'] = pd.DataFrame.from_dict(data_dict[f'{protein}_data'])\n"
   ]
  },
  {
   "cell_type": "code",
   "execution_count": 5,
   "metadata": {},
   "outputs": [
    {
     "name": "stdout",
     "output_type": "stream",
     "text": [
      "Added /camp/home/acarb/.conda/envs/DIscreen_env/bin to PATH\n",
      "Current PATH: /camp/home/acarb/.conda/envs/DIscreen_env/bin:/camp/apps/eb/dev/software/JupyterLab/1.2.5-foss-2019b-Python-3.7.4/bin:/camp/apps/eb/dev/software/IPython/7.9.0-foss-2019b-Python-3.7.4/bin:/camp/apps/eb/dev/software/Tk/8.6.9-GCCcore-8.3.0/bin:/camp/apps/eb/dev/software/X11/20190717-GCCcore-8.3.0/bin:/camp/apps/eb/dev/software/fontconfig/2.13.1-GCCcore-8.3.0/bin:/camp/apps/eb/dev/software/expat/2.2.7-GCCcore-8.3.0/bin:/camp/apps/eb/dev/software/freetype/2.10.1-GCCcore-8.3.0/bin:/camp/apps/eb/dev/software/libpng/1.6.37-GCCcore-8.3.0/bin:/camp/apps/eb/software/SciPy-bundle/2019.10-foss-2019b-Python-3.7.4/bin:/camp/apps/eb/dev/software/ZeroMQ/4.3.2-GCCcore-8.3.0/bin:/camp/apps/eb/dev/software/util-linux/2.34-GCCcore-8.3.0/sbin:/camp/apps/eb/dev/software/util-linux/2.34-GCCcore-8.3.0/bin:/camp/apps/eb/dev/software/Python/3.7.4-GCCcore-8.3.0/bin:/camp/apps/eb/dev/software/SQLite/3.29.0-GCCcore-8.3.0/bin:/camp/apps/eb/dev/software/Tcl/8.6.9-GCCcore-8.3.0/bin:/camp/apps/eb/dev/software/ncurses/6.1-GCCcore-8.3.0/bin:/camp/apps/eb/dev/software/bzip2/1.0.8-GCCcore-8.3.0/bin:/camp/apps/eb/dev/software/FFTW/3.3.8-gompi-2019b/bin:/camp/apps/eb/dev/software/OpenMPI/3.1.4-GCC-8.3.0/bin:/camp/apps/eb/dev/software/hwloc/1.11.12-GCCcore-8.3.0/sbin:/camp/apps/eb/dev/software/hwloc/1.11.12-GCCcore-8.3.0/bin:/camp/apps/eb/dev/software/libxml2/2.9.9-GCCcore-8.3.0/bin:/camp/apps/eb/dev/software/XZ/5.2.4-GCCcore-8.3.0/bin:/camp/apps/eb/dev/software/numactl/2.0.12-GCCcore-8.3.0/bin:/camp/apps/eb/software/binutils/2.32-GCCcore-8.3.0/bin:/camp/apps/eb/software/GCCcore/8.3.0/bin:/camp/lab/debenedictise/home/users/acarb/ProteinMPNN/tutorial/ProteinMPNN:/camp/home/acarb/.asdf/shims:/camp/home/acarb/.asdf/bin:/camp/apps/eb/software/Anaconda3/2023.03/condabin:/usr/local/bin:/bin:/usr/bin:/usr/local/sbin:/usr/sbin:/opt/ibutils/bin:/nemo/lab/debenedictise/home/users/acarb/gitfolder/DI_screen/analysis:/camp/home/acarb/.local/bin:/camp/home/acarb/bin\n"
     ]
    },
    {
     "name": "stderr",
     "output_type": "stream",
     "text": [
      "/camp/home/acarb/.conda/envs/DIscreen_env/lib/python3.7/site-packages/Bio/PDB/PDBParser.py:399: PDBConstructionWarning: Ignoring unrecognized record 'END' at line 2363\n",
      "  PDBConstructionWarning,\n"
     ]
    }
   ],
   "source": [
    "import os\n",
    "\n",
    "# Path to the directory you want to add (e.g., the directory containing mkdssp)\n",
    "new_path = os.path.expanduser('~/.conda/envs/DIscreen_env/bin')\n",
    "\n",
    "# Get the current PATH\n",
    "current_path = os.environ.get('PATH', '')\n",
    "\n",
    "# Check if the new path is already in the PATH\n",
    "if new_path not in current_path.split(os.pathsep):\n",
    "    # Add the new path to the PATH\n",
    "    os.environ['PATH'] = new_path + os.pathsep + current_path\n",
    "    print(f\"Added {new_path} to PATH\")\n",
    "else:\n",
    "    print(f\"{new_path} is already in PATH\")\n",
    "\n",
    "# Check the updated PATH\n",
    "print(\"Current PATH:\", os.environ['PATH'])\n",
    "\n",
    "name='AraC'\n",
    "base = base = '/camp/lab/debenedictise/home/users/acarb/gitfolder/DI_screen_MathonyDebug'\n",
    "in_folder = f'{base}/analysis/input_data'\n",
    "parser = PDBParser()\n",
    "protein = parser.get_structure(name, f'{in_folder}/{name}_AF.pdb')\n",
    "dssp = DSSP(protein[0], f'{in_folder}/{name}_AF.pdb', dssp='mkdssp')\n",
    "sequence = ''\n",
    "Sec_structure = ''\n",
    "for z in range(len(dssp)):\n",
    "    a_key = list(dssp.keys())[z]\n",
    "    sequence += dssp[a_key][1]\n",
    "    Sec_structure += dssp[a_key][2]\n",
    "Sec_structure = Sec_structure.replace('-', 'C')\n",
    "Sec_structure = Sec_structure.replace('I', 'C')\n",
    "Sec_structure = Sec_structure.replace('T', 'C')\n",
    "Sec_structure = Sec_structure.replace('S', 'C')\n",
    "Sec_structure = Sec_structure.replace('G', 'H')\n",
    "Sec_structure = Sec_structure.replace('E', 'B')\n",
    "Sec_structure = [AA for AA in Sec_structure]\n"
   ]
  },
  {
   "cell_type": "code",
   "execution_count": 6,
   "metadata": {},
   "outputs": [
    {
     "name": "stderr",
     "output_type": "stream",
     "text": [
      "/camp/home/acarb/.conda/envs/DIscreen_env/lib/python3.7/site-packages/Bio/PDB/PDBParser.py:399: PDBConstructionWarning: Ignoring unrecognized record 'END' at line 2363\n",
      "  PDBConstructionWarning,\n"
     ]
    }
   ],
   "source": [
    "#construct dataset\n",
    "full_dataset = {}\n",
    "input_pdbs = ['AraC', 'Flp', 'SigF','TVMV']\n",
    "\n",
    "for protein in input_pdbs:  \n",
    "    full_dataset[f'{protein}'] = {}\n",
    "    full_dataset[f'{protein}']['2'] = collect_training_data(2, data_dict[f'{protein}_data'], protein, feat_dict_radius, feat_dict_sequential, primary_proteins, analysis_dict, in_folder)\n",
    "\n",
    "#dump the current dataset to pickle\n",
    "with open(f'{data_folder}/proteins_training.pickle', 'wb') as f:\n",
    "    pickle.dump(full_dataset, f) \n",
    "f.close() "
   ]
  },
  {
   "cell_type": "code",
   "execution_count": 7,
   "metadata": {},
   "outputs": [
    {
     "name": "stderr",
     "output_type": "stream",
     "text": [
      "findfont: Font family ['sans-serif'] not found. Falling back to DejaVu Sans.\n",
      "findfont: Font family ['sans-serif'] not found. Falling back to DejaVu Sans.\n",
      "/nemo/lab/debenedictise/home/users/acarb/gitfolder/DI_screen_MathonyDebug/analysis/utils/plotting.py:122: RuntimeWarning: More than 20 figures have been opened. Figures created through the pyplot interface (`matplotlib.pyplot.figure`) are retained until explicitly closed and may consume too much memory. (To control this warning, see the rcParam `figure.max_open_warning`).\n",
      "  plt.figure(figsize=(5,5))\n",
      "/nemo/lab/debenedictise/home/users/acarb/gitfolder/DI_screen_MathonyDebug/analysis/utils/plotting.py:105: RuntimeWarning: More than 20 figures have been opened. Figures created through the pyplot interface (`matplotlib.pyplot.figure`) are retained until explicitly closed and may consume too much memory. (To control this warning, see the rcParam `figure.max_open_warning`).\n",
      "  plt.figure(figsize=(5,5))\n",
      "/nemo/lab/debenedictise/home/users/acarb/gitfolder/DI_screen_MathonyDebug/analysis/utils/plotting.py:122: RuntimeWarning: More than 20 figures have been opened. Figures created through the pyplot interface (`matplotlib.pyplot.figure`) are retained until explicitly closed and may consume too much memory. (To control this warning, see the rcParam `figure.max_open_warning`).\n",
      "  plt.figure(figsize=(5,5))\n"
     ]
    }
   ],
   "source": [
    "for name, radius_dict in full_dataset.items():\n",
    "    for name, df in radius_dict.items():\n",
    "        df.dropna(inplace=True)\n",
    "\n",
    "property_dict = {}\n",
    "for i in analysis_dict.items():\n",
    "        #select samples from second enrichment and average them, if 2 replicates are available\n",
    "        temp_dict = {}\n",
    "        for idx, frame in i[1].items():\n",
    "            if len(idx) == 2 and idx[1] == '2':\n",
    "                temp_dict[idx] = frame\n",
    "        if len(temp_dict) == 1: \n",
    "            out_df = list(temp_dict.values())[0]['log']\n",
    "        elif len(temp_dict) == 2:\n",
    "            out_df = (temp_dict['12']['log'] + temp_dict['22']['log'])/2\n",
    "        else:\n",
    "            continue\n",
    "        out_df = out_df.to_frame()\n",
    "        complete_df = pd.concat([out_df.reset_index(), full_dataset[f'{i[0].split(\"_\")[0]}']['2'].reset_index()], axis=1)\n",
    "        complete_df.dropna(inplace=True)\n",
    "        plot_df = complete_df[['log', 'Sec_structure', 'ASA', 'pLDDT']]   \n",
    "        plot_df = plot_df.iloc[1:-1,:]\n",
    "        plot_df = pd.melt(plot_df, id_vars=['Sec_structure', 'ASA', 'pLDDT'], value_vars=out_df.columns, value_name='enrichment')\n",
    "        plot_df['ASA'] =plot_df['ASA'].astype('float')\n",
    "        plot_df['pLDDT'] =plot_df['pLDDT'].astype('float')\n",
    "        property_dict[i[0]] = complete_df\n",
    "        feature_correlation_plot(plot_df, i[0], 'ASA', fig_folder)\n",
    "        feature_correlation_plot(plot_df, i[0], 'pLDDT', fig_folder)\n",
    "        violin_plot(plot_df, i[0], 'Sec_structure', fig_folder)\n"
   ]
  }
 ],
 "metadata": {
  "kernelspec": {
   "display_name": "DIscreen_env",
   "language": "python",
   "name": "discreen_env"
  },
  "language_info": {
   "codemirror_mode": {
    "name": "ipython",
    "version": 3
   },
   "file_extension": ".py",
   "mimetype": "text/x-python",
   "name": "python",
   "nbconvert_exporter": "python",
   "pygments_lexer": "ipython3",
   "version": "3.7.12"
  },
  "vscode": {
   "interpreter": {
    "hash": "23231cc0e1175a415e6a46f609f010c4518ef1e16ed86c20cc8a33961ffa22b9"
   }
  }
 },
 "nbformat": 4,
 "nbformat_minor": 2
}
